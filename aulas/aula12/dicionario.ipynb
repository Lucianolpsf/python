{
 "cells": [
  {
   "cell_type": "markdown",
   "metadata": {},
   "source": [
    "# Dicionario\n",
    "\n",
    "É um conjunto de chaves e valores que distinguem um objeto. Estas chaves nos chamamos de KEYS e seus valores de VALUES. É um tipo especial de variavel python identificada pelas {}.  "
   ]
  },
  {
   "cell_type": "code",
   "execution_count": 1,
   "metadata": {},
   "outputs": [
    {
     "name": "stdout",
     "output_type": "stream",
     "text": [
      "{'nome': 'Luciano', 'idade': 30, 'cidade': 'São Paulo'}\n"
     ]
    }
   ],
   "source": [
    "pessoa = {\n",
    "    'nome': 'Luciano',\n",
    "    'idade': 30 ,\n",
    "    'cidade': 'São Paulo'\n",
    "}\n",
    "\n",
    "print(pessoa)"
   ]
  },
  {
   "cell_type": "code",
   "execution_count": 2,
   "metadata": {},
   "outputs": [
    {
     "name": "stdout",
     "output_type": "stream",
     "text": [
      "dict_keys(['nome', 'idade', 'cidade'])\n",
      "dict_values(['Luciano', 30, 'São Paulo'])\n"
     ]
    }
   ],
   "source": [
    "# Metodo KEYS()\n",
    "\n",
    "print(pessoa.keys())\n",
    "\n",
    "# Metodo VALUES()\n",
    "\n",
    "print(pessoa.values())"
   ]
  },
  {
   "cell_type": "code",
   "execution_count": 3,
   "metadata": {},
   "outputs": [
    {
     "data": {
      "text/plain": [
       "'Luciano'"
      ]
     },
     "execution_count": 3,
     "metadata": {},
     "output_type": "execute_result"
    }
   ],
   "source": [
    "# Olhando valores especificos de um dicionario\n",
    "\n",
    "pessoa['nome']"
   ]
  },
  {
   "cell_type": "code",
   "execution_count": 4,
   "metadata": {},
   "outputs": [
    {
     "name": "stdout",
     "output_type": "stream",
     "text": [
      "{'nome': 'Luciano', 'idade': 30, 'cidade': 'São Paulo'}\n",
      "{'nome': 'Luciano', 'idade': 30, 'cidade': 'Brasilia'}\n"
     ]
    }
   ],
   "source": [
    "# Atribuindo um novo valor a uma chave\n",
    "print(pessoa)\n",
    "pessoa['cidade'] = 'Brasilia'\n",
    "print(pessoa)"
   ]
  },
  {
   "cell_type": "code",
   "execution_count": 5,
   "metadata": {},
   "outputs": [
    {
     "name": "stdout",
     "output_type": "stream",
     "text": [
      "{'nome': 'Luciano', 'idade': 30, 'cidade': 'Brasilia', 'email': 'luciano@teste.com'}\n"
     ]
    }
   ],
   "source": [
    "pessoa['email'] = 'luciano@teste.com'\n",
    "\n",
    "print(pessoa)"
   ]
  },
  {
   "cell_type": "code",
   "execution_count": 6,
   "metadata": {},
   "outputs": [
    {
     "name": "stdout",
     "output_type": "stream",
     "text": [
      "{'nome': 'Luciano', 'email': 'luciano@teste.com'}\n"
     ]
    }
   ],
   "source": [
    "# excluindo uma chave e seu valor\n",
    "del pessoa['idade']\n",
    "\n",
    "pessoa.pop('cidade')\n",
    "\n",
    "print(pessoa)"
   ]
  },
  {
   "cell_type": "code",
   "execution_count": 7,
   "metadata": {},
   "outputs": [
    {
     "name": "stdout",
     "output_type": "stream",
     "text": [
      "0 {'nome': 'Daniel', 'cidade': 'Aguas claras'}\n",
      "1 {'nome': 'Marcos', 'cidade': 'recanto'}\n",
      "2 {'nome': 'Luana', 'cidade': 'brasilia'}\n",
      "3 {'nome': 'Francineide', 'cidade': 'Ceilandia'}\n"
     ]
    }
   ],
   "source": [
    "alunos = [\n",
    "    {'nome': 'Daniel', 'cidade':'Aguas claras'},\n",
    "    {'nome': 'Marcos', 'cidade':'recanto'},\n",
    "    {'nome': 'Luana', 'cidade':'brasilia'},\n",
    "    {'nome': 'Francineide', 'cidade':'Ceilandia'}\n",
    "]\n",
    "\n",
    "# Percorrendo lista e printando cada dicionario\n",
    "for indice, aluno in enumerate(alunos):\n",
    "    print(indice , aluno)\n"
   ]
  },
  {
   "cell_type": "code",
   "execution_count": 8,
   "metadata": {},
   "outputs": [
    {
     "name": "stdout",
     "output_type": "stream",
     "text": [
      "{'nome': 'Luana', 'cidade': 'brasilia'}\n",
      "Samambaia\n"
     ]
    }
   ],
   "source": [
    "print(alunos[2])\n",
    "\n",
    "alunos[2]['cidade'] = 'Samambaia'\n",
    "print(alunos[2]['cidade'])"
   ]
  },
  {
   "cell_type": "code",
   "execution_count": 9,
   "metadata": {},
   "outputs": [
    {
     "name": "stdout",
     "output_type": "stream",
     "text": [
      "{'Daniel': {'matricula': '1234', 'escolaridade': 'superior'}, 'Luana': {'matricula': '5678', 'escolaridade': 'superior'}, 'Gilmar': {'matricula': '4321', 'escolaridade': 'superior'}, 'Felipe': {'matricula': '9874', 'escolaridade': 'medio'}}\n"
     ]
    }
   ],
   "source": [
    "alunos_dicionario = {\n",
    "    'Daniel': { 'matricula':'1234', 'escolaridade':'superior'},\n",
    "    'Luana': { 'matricula':'5678', 'escolaridade':'superior'},\n",
    "    'Gilmar': { 'matricula':'4321', 'escolaridade':'superior'},\n",
    "    'Felipe': { 'matricula':'9874', 'escolaridade':'medio'},\n",
    "}\n",
    "\n",
    "print(alunos_dicionario)"
   ]
  },
  {
   "cell_type": "code",
   "execution_count": 10,
   "metadata": {},
   "outputs": [
    {
     "name": "stdout",
     "output_type": "stream",
     "text": [
      "medio\n"
     ]
    }
   ],
   "source": [
    "print(alunos_dicionario['Felipe']['escolaridade'])"
   ]
  }
 ],
 "metadata": {
  "kernelspec": {
   "display_name": "Python 3",
   "language": "python",
   "name": "python3"
  },
  "language_info": {
   "codemirror_mode": {
    "name": "ipython",
    "version": 3
   },
   "file_extension": ".py",
   "mimetype": "text/x-python",
   "name": "python",
   "nbconvert_exporter": "python",
   "pygments_lexer": "ipython3",
   "version": "3.10.12"
  }
 },
 "nbformat": 4,
 "nbformat_minor": 2
}
