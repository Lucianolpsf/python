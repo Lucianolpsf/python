{
 "cells": [
  {
   "cell_type": "markdown",
   "metadata": {},
   "source": [
    "# Dicionario\n",
    "\n",
    "Em python um dicionario é um tipo de variavel especial que podemos atribuir um conjunto de valores nomeados, e a estes dados o nome de key e values.\n",
    "\n",
    "veja o exemplo abaixo"
   ]
  },
  {
   "cell_type": "code",
   "execution_count": 9,
   "metadata": {},
   "outputs": [
    {
     "name": "stdout",
     "output_type": "stream",
     "text": [
      "{'nome': 'Luciano', 'idade': 30, 'cidade': 'São Paulo'}\n"
     ]
    }
   ],
   "source": [
    "dicionario = {\n",
    "    'nome': 'Luciano',\n",
    "    'idade': 30,\n",
    "    'cidade': 'São Paulo'\n",
    "}\n",
    "\n",
    "# neste dicionario temos as chaves \n",
    "# nome\n",
    "# idade\n",
    "# cidade\n",
    "\n",
    "# os valores são:\n",
    "# Luciano\n",
    "# 30\n",
    "# 'São Paulo'\n",
    "\n",
    "# Veja a saida em um print\n",
    "\n",
    "print(dicionario)"
   ]
  },
  {
   "cell_type": "code",
   "execution_count": 4,
   "metadata": {},
   "outputs": [
    {
     "name": "stdout",
     "output_type": "stream",
     "text": [
      "Luciano\n"
     ]
    }
   ],
   "source": [
    "# Para verificar o valor de um dicionario basta procurar por sua chave dentro deste dicionario\n",
    "\n",
    "print(dicionario['nome'])\n"
   ]
  },
  {
   "cell_type": "code",
   "execution_count": 10,
   "metadata": {},
   "outputs": [
    {
     "name": "stdout",
     "output_type": "stream",
     "text": [
      "{'nome': 'Luciano', 'idade': 30, 'cidade': 'São Paulo'}\n",
      "{'nome': 'Luciano', 'idade': 30, 'cidade': 'Brasilia'}\n"
     ]
    }
   ],
   "source": [
    "# Para atribuir valor a um dicionario devemos acessar pela chave correspondente ao valor\n",
    "\n",
    "print(dicionario)\n",
    "dicionario['cidade'] = 'Brasilia'\n",
    "\n",
    "print(dicionario)\n",
    "# perceba que agora temos um valor diferente para a chave cidade"
   ]
  },
  {
   "cell_type": "code",
   "execution_count": 11,
   "metadata": {},
   "outputs": [
    {
     "name": "stdout",
     "output_type": "stream",
     "text": [
      "{'nome': 'Luciano', 'idade': 30, 'cidade': 'Brasilia', 'email': 'Luciano@email.com'}\n"
     ]
    }
   ],
   "source": [
    "# para criarmos uma nova chave a um dicionario precisamos atribuir um valor criando uma nova chave\n",
    "\n",
    "dicionario['email'] = 'Luciano@email.com'\n",
    "\n",
    "print(dicionario)"
   ]
  },
  {
   "cell_type": "markdown",
   "metadata": {},
   "source": [
    "## Removendo chaves de um dicionario\n",
    "\n",
    "Podemos realizar a ação de excluir uma chave usando o metodo pop ou a instrução del"
   ]
  },
  {
   "cell_type": "code",
   "execution_count": 12,
   "metadata": {},
   "outputs": [
    {
     "name": "stdout",
     "output_type": "stream",
     "text": [
      "{'nome': 'Luciano', 'idade': 30}\n"
     ]
    }
   ],
   "source": [
    "# Removendo uma chave do dicionario,\n",
    "\n",
    "del dicionario['cidade']\n",
    "\n",
    "dicionario.pop('email')\n",
    "\n",
    "print(dicionario)"
   ]
  },
  {
   "cell_type": "markdown",
   "metadata": {},
   "source": [
    "## Metodos de acesso que podem ajudar na exploração de um dicionario\n",
    "\n",
    "- keys\n",
    "- values\n",
    "- items"
   ]
  },
  {
   "cell_type": "code",
   "execution_count": 14,
   "metadata": {},
   "outputs": [
    {
     "name": "stdout",
     "output_type": "stream",
     "text": [
      "dict_keys(['nome', 'idade'])\n",
      "dict_values(['Luciano', 30])\n",
      "dict_items([('nome', 'Luciano'), ('idade', 30)])\n"
     ]
    }
   ],
   "source": [
    "# keys retorna todas as chaves disponiveis do dicionario\n",
    "print(dicionario.keys())\n",
    "\n",
    "# keys retorna todos os valores disponiveis do dicionario\n",
    "print(dicionario.values())\n",
    "\n",
    "# keys retorna todos os conjuntos(pares) de chaves e valores disponiveis do dicionario\n",
    "print(dicionario.items())"
   ]
  },
  {
   "cell_type": "code",
   "execution_count": 15,
   "metadata": {},
   "outputs": [
    {
     "name": "stdout",
     "output_type": "stream",
     "text": [
      "Chave: nome, Valor: Luciano\n",
      "Chave: idade, Valor: 30\n"
     ]
    }
   ],
   "source": [
    "# podemos utilazer de um loop for para percorrer os valores e chaves de um dicionario\n",
    "\n",
    "for chave, valor in dicionario.items():\n",
    "    print(f'Chave: {chave}, Valor: {valor}')"
   ]
  }
 ],
 "metadata": {
  "kernelspec": {
   "display_name": "Python 3",
   "language": "python",
   "name": "python3"
  },
  "language_info": {
   "codemirror_mode": {
    "name": "ipython",
    "version": 3
   },
   "file_extension": ".py",
   "mimetype": "text/x-python",
   "name": "python",
   "nbconvert_exporter": "python",
   "pygments_lexer": "ipython3",
   "version": "3.12.3"
  }
 },
 "nbformat": 4,
 "nbformat_minor": 2
}
