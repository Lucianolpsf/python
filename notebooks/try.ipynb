{
 "cells": [
  {
   "cell_type": "code",
   "execution_count": 16,
   "metadata": {},
   "outputs": [
    {
     "name": "stdout",
     "output_type": "stream",
     "text": [
      "division by zero\n",
      "seus numeros estão invalidos\n",
      "2.0\n"
     ]
    }
   ],
   "source": [
    "try:\n",
    "    numero1 = int(input('Informe o primeiro numero: '))\n",
    "    numero2 = int(input('Informe o segundo numero: '))\n",
    "\n",
    "    divisao = numero1 / numero2\n",
    "   \n",
    "except Exception as err :\n",
    "   print(err)\n",
    "else:\n",
    "    print('Estou no else do bloco try')\n",
    "finally:\n",
    "    print('seus numeros estão invalidos')\n",
    "    \n",
    "print(divisao)"
   ]
  },
  {
   "cell_type": "code",
   "execution_count": 21,
   "metadata": {},
   "outputs": [
    {
     "name": "stdout",
     "output_type": "stream",
     "text": [
      "Erro personalizado\n"
     ]
    }
   ],
   "source": [
    "class ErroGenerico (Exception):\n",
    "    def __init__(self, mensagem):\n",
    "        super().__init__(mensagem)\n",
    "\n",
    "try:\n",
    "    numero1 = int(input('Informe o primeiro numero: '))\n",
    "    numero2 = int(input('Informe o segundo numero: '))\n",
    "\n",
    "    if numero2 < 1:\n",
    "        raise ErroGenerico('Erro personalizado')\n",
    "    else:\n",
    "        divisao = numero1 / numero2\n",
    "   \n",
    "except ErroGenerico as err :\n",
    "    print(err)"
   ]
  }
 ],
 "metadata": {
  "kernelspec": {
   "display_name": "venv",
   "language": "python",
   "name": "python3"
  },
  "language_info": {
   "codemirror_mode": {
    "name": "ipython",
    "version": 3
   },
   "file_extension": ".py",
   "mimetype": "text/x-python",
   "name": "python",
   "nbconvert_exporter": "python",
   "pygments_lexer": "ipython3",
   "version": "3.11.9"
  }
 },
 "nbformat": 4,
 "nbformat_minor": 2
}
