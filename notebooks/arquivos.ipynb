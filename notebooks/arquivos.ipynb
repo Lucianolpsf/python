{
 "cells": [
  {
   "cell_type": "markdown",
   "metadata": {},
   "source": [
    "# Manipulando arquivos\n",
    "\n",
    "A manipulação de arquivos se torna algo do cotidiano do desenvolvedor python, para isso podemos usar da instrução 'open' utilizado junto a um 'with' ou atribuindo a uma variavel.\n",
    "\n",
    "Para abrir um arquivo devemos nos atentar ao modo de abertura desse arquivo, pois cada modo nos permitira a realização de tarefas diferentes.\n",
    "\n",
    "Os modos comuns são:\n",
    "\n",
    "- **'r'**: Leitura (default). Abre o arquivo para leitura.\n",
    "- **'w'**: Escrita. Cria um arquivo novo ou sobrescreve um existente.\n",
    "- **'a'**: Anexar. Adiciona ao final do arquivo se ele já existir.\n",
    "- **'x'**: Exclusivo. Cria um novo arquivo e falha se o arquivo já existir.\n",
    "\n",
    "## Principais metodos\n",
    "\n",
    "- open\n",
    "- read\n",
    "- readline\n",
    "- write\n",
    "- writelines\n",
    "- close\n"
   ]
  },
  {
   "cell_type": "code",
   "execution_count": null,
   "metadata": {},
   "outputs": [],
   "source": [
    "# neste primeiro metodo esta salvando o arquivo em uma variavel para depois acessa-lo\n",
    "\n",
    "arquivo = open('endereco do arquivo.extensão', 'modo de abertura')\n",
    "\n",
    "# com o arquivo salvo podemos ler seu conteudo e atribuir a uma variavel\n",
    "conteudo = arquivo.read()\n",
    "\n",
    "print(conteudo)\n"
   ]
  },
  {
   "cell_type": "code",
   "execution_count": null,
   "metadata": {},
   "outputs": [],
   "source": [
    "# neste metodo usamos a instrução with\n",
    "\n",
    "with open('endereco do arquivo.extensão', 'modo de abertura') as arquivo:\n",
    "    conteudo = arquivo.read()\n",
    "    print(conteudo)"
   ]
  }
 ],
 "metadata": {
  "kernelspec": {
   "display_name": "Python 3",
   "language": "python",
   "name": "python3"
  },
  "language_info": {
   "codemirror_mode": {
    "name": "ipython",
    "version": 3
   },
   "file_extension": ".py",
   "mimetype": "text/x-python",
   "name": "python",
   "nbconvert_exporter": "python",
   "pygments_lexer": "ipython3",
   "version": "3.12.3"
  }
 },
 "nbformat": 4,
 "nbformat_minor": 2
}
