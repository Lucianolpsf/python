{
 "cells": [
  {
   "cell_type": "markdown",
   "metadata": {},
   "source": [
    "# Relembrando variaveis\n",
    "\n",
    "- int()\n",
    "- str()\n",
    "- float()\n",
    "- bool()\n",
    "- list()\n",
    "- tuple()\n",
    "- dict()"
   ]
  },
  {
   "cell_type": "code",
   "execution_count": 8,
   "metadata": {},
   "outputs": [],
   "source": [
    "numero = 1 \n",
    "nome = 'José'\n",
    "numero_decimal = 10.9\n",
    "sera = True\n",
    "frutas = ['pêra', 'morango', 'uva']\n",
    "carros = ('gol', 'uno', 'fusca')\n",
    "pessoa = {'nome': 'Luciano', 'idade':30, 'altura':1.78}"
   ]
  },
  {
   "cell_type": "markdown",
   "metadata": {},
   "source": [
    "## Condicionais\n",
    "\n",
    "- if\n",
    "- match case"
   ]
  },
  {
   "cell_type": "code",
   "execution_count": 5,
   "metadata": {},
   "outputs": [
    {
     "name": "stdout",
     "output_type": "stream",
     "text": [
      "O nome na variavel não é Luciano\n"
     ]
    }
   ],
   "source": [
    "if nome == 'Luciano':\n",
    "    print('O nome esta correto')\n",
    "else:\n",
    "    print('O nome na variavel não é Luciano')"
   ]
  },
  {
   "cell_type": "code",
   "execution_count": 6,
   "metadata": {},
   "outputs": [
    {
     "name": "stdout",
     "output_type": "stream",
     "text": [
      "opção 1\n"
     ]
    }
   ],
   "source": [
    "match numero:\n",
    "    case 1:\n",
    "        print('opção 1')\n",
    "    case 2:\n",
    "        print('opção 2')\n",
    "    case 3:\n",
    "        print('opção 3')\n",
    "    case 4:\n",
    "        print('opção 4')\n",
    "    case _: \n",
    "        print('opção invalida')\n"
   ]
  },
  {
   "cell_type": "markdown",
   "metadata": {},
   "source": [
    "## Laços de repetição\n",
    "\n",
    "- for\n",
    "- while"
   ]
  },
  {
   "cell_type": "code",
   "execution_count": null,
   "metadata": {},
   "outputs": [],
   "source": [
    "for numero in range(5):\n",
    "    print(f'O numero é: {numero}')"
   ]
  },
  {
   "cell_type": "code",
   "execution_count": null,
   "metadata": {},
   "outputs": [],
   "source": [
    "contador = 0\n",
    "while contador <= 5:\n",
    "    print(f'O contador é: {contador}')\n",
    "    contador += 1"
   ]
  },
  {
   "cell_type": "markdown",
   "metadata": {},
   "source": [
    "## Metodos de string\n",
    "\n",
    "- upper \n",
    "- lower\n",
    "- capitalize\n",
    "- split\n",
    "- strip\n",
    "- slice\n",
    "- replace\n",
    "- join\n"
   ]
  },
  {
   "cell_type": "code",
   "execution_count": 20,
   "metadata": {},
   "outputs": [
    {
     "name": "stdout",
     "output_type": "stream",
     "text": [
      "luciano lopes ferreira      \n",
      "Luciano lopes ferreira      \n",
      "LUCIANO LOPES FERREIRA      \n",
      "Luciano lopes Ferreira\n",
      "Luciano nunes Ferreira      \n",
      "['Luciano', 'lopes', 'Ferreira']\n",
      "Luciano-Adriana\n",
      "lopes\n"
     ]
    }
   ],
   "source": [
    "aluno = 'Luciano lopes Ferreira      '\n",
    "alunos = ['Luciano', 'Adriana']\n",
    "print(aluno.lower()) # deixa minusculo\n",
    "print(aluno.capitalize()) # deixa primeira letra maiuscula\n",
    "print(aluno.upper()) # deixa maiuscula\n",
    "print(aluno.strip()) # remove espaços\n",
    "print(aluno.replace('lopes', 'nunes')) # substitui uma sequencia de caracter por outra\n",
    "print(aluno.split()) # cria uma lista com as palavras encontradas da string\n",
    "print('-'.join(alunos)) # transforma uma lista em uma string com o caracter desejado de separador\n",
    "print(aluno[8:13]) # corta a string no intervalo de caracteres fornecidos\n"
   ]
  },
  {
   "cell_type": "markdown",
   "metadata": {},
   "source": [
    "## Metodos de lista\n",
    "\n",
    "- append\n",
    "- extend\n",
    "- insert\n",
    "- remove\n",
    "- pop\n",
    "- index\n",
    "- del\n",
    "- sort\n",
    "- reverse"
   ]
  },
  {
   "cell_type": "code",
   "execution_count": 22,
   "metadata": {},
   "outputs": [
    {
     "name": "stdout",
     "output_type": "stream",
     "text": [
      "['notebook', 'smartphone', 'smart tv', 'fliperama']\n",
      "['notebook', 'smartphone', 'smart tv', 'fliperama', 'sofa', 'mesa', 'puff']\n",
      "['notebook', 'smartphone', 'smart tv', 'playstation 5', 'fliperama', 'sofa', 'mesa', 'puff']\n",
      "['notebook', 'smartphone', 'smart tv', 'playstation 5', 'fliperama', 'sofa', 'mesa']\n",
      "['notebook', 'smart tv', 'playstation 5', 'fliperama', 'sofa', 'mesa']\n",
      "['notebook', 'playstation 5', 'fliperama', 'sofa', 'mesa']\n",
      "['notebook', 'playstation 5', 'fliperama', 'sofa', 'mesa']\n",
      "['fliperama', 'mesa', 'notebook', 'playstation 5', 'sofa']\n",
      "['sofa', 'playstation 5', 'notebook', 'mesa', 'fliperama']\n"
     ]
    }
   ],
   "source": [
    "produtos = ['notebook', 'smartphone', 'smart tv']\n",
    "\n",
    "produtos.append('fliperama') # adiciona um elemento ao final da lista\n",
    "print(produtos)\n",
    "produtos.extend(['sofa', 'mesa', 'puff']) # incrementa a lista com outra lista\n",
    "print(produtos)\n",
    "produtos.insert(3,'playstation 5') # aciona um novo elemento em uma posição especifica\n",
    "print(produtos)\n",
    "produtos.pop() # remove o ultimo elemento da lista\n",
    "print(produtos)\n",
    "produtos.pop(1) # remove um elemento especifico da lista\n",
    "print(produtos)\n",
    "produtos.remove('smart tv') # remove a primeira ocorrencia encontrada da lista\n",
    "print(produtos)\n",
    "produtos.index('notebook') # retorna o indice da primeira ocorrencia encontrada\n",
    "print(produtos)\n",
    "produtos.sort() # organiza em ordem crescente a lista\n",
    "print(produtos)\n",
    "produtos.reverse() # inverte a lista de tras para frente\n",
    "print(produtos)\n",
    "\n"
   ]
  },
  {
   "cell_type": "markdown",
   "metadata": {},
   "source": [
    "##  Funções\n",
    "\n",
    "São objetos capazes de armazenar um bloco de codigo e depois podem ser reaproveitados em outro momento do codigo, somente chamando pelo seu nome.\n",
    "\n",
    "Tipos:\n",
    "- função sem retorno\n",
    "- função com retorno\n",
    "- função com parametros\n",
    "- função sem parametros\n",
    "- função lambda\n",
    "- função com multiplos parametros\n",
    "    - parametros posicionais\n",
    "    - parametros nomeados\n",
    "- funções recursivas"
   ]
  },
  {
   "cell_type": "code",
   "execution_count": 28,
   "metadata": {},
   "outputs": [],
   "source": [
    "def saudacao():\n",
    "    saudacao = 'Hello World!'"
   ]
  },
  {
   "cell_type": "code",
   "execution_count": 29,
   "metadata": {},
   "outputs": [],
   "source": [
    "saudacao()"
   ]
  },
  {
   "cell_type": "code",
   "execution_count": 25,
   "metadata": {},
   "outputs": [],
   "source": [
    "# Função com retorno\n",
    "\n",
    "def somar():\n",
    "    soma = 10 + 25\n",
    "    return soma"
   ]
  },
  {
   "cell_type": "code",
   "execution_count": 27,
   "metadata": {},
   "outputs": [
    {
     "name": "stdout",
     "output_type": "stream",
     "text": [
      "35\n"
     ]
    }
   ],
   "source": [
    "print(somar())"
   ]
  },
  {
   "cell_type": "code",
   "execution_count": 32,
   "metadata": {},
   "outputs": [],
   "source": [
    "# com parametros\n",
    "\n",
    "def somar2(numero1, numero2):\n",
    "    soma = numero1 + numero2\n",
    "    return soma"
   ]
  },
  {
   "cell_type": "code",
   "execution_count": 33,
   "metadata": {},
   "outputs": [
    {
     "data": {
      "text/plain": [
       "13"
      ]
     },
     "execution_count": 33,
     "metadata": {},
     "output_type": "execute_result"
    }
   ],
   "source": [
    "somar2(5, 8)"
   ]
  },
  {
   "cell_type": "code",
   "execution_count": 34,
   "metadata": {},
   "outputs": [],
   "source": [
    "# função lambda\n",
    "\n",
    "soma_lambda = lambda numero1, numero2 : numero1 + numero2"
   ]
  },
  {
   "cell_type": "code",
   "execution_count": 35,
   "metadata": {},
   "outputs": [
    {
     "data": {
      "text/plain": [
       "178"
      ]
     },
     "execution_count": 35,
     "metadata": {},
     "output_type": "execute_result"
    }
   ],
   "source": [
    "soma_lambda(78, 100)"
   ]
  },
  {
   "cell_type": "code",
   "execution_count": 37,
   "metadata": {},
   "outputs": [],
   "source": [
    "# função com multiplos parametros (argumentos) posicionais\n",
    "\n",
    "def somar3 (*numero):\n",
    "    resultado = sum(numero)\n",
    "    return resultado"
   ]
  },
  {
   "cell_type": "code",
   "execution_count": 38,
   "metadata": {},
   "outputs": [
    {
     "data": {
      "text/plain": [
       "101"
      ]
     },
     "execution_count": 38,
     "metadata": {},
     "output_type": "execute_result"
    }
   ],
   "source": [
    "somar3(1 , 12, 25, 26, 27, 10)"
   ]
  },
  {
   "cell_type": "code",
   "execution_count": 39,
   "metadata": {},
   "outputs": [],
   "source": [
    "# função multiplos parametros nomeados\n",
    "\n",
    "def gerar_produto (**parametros):\n",
    "    produto = parametros\n",
    "    return produto"
   ]
  },
  {
   "cell_type": "code",
   "execution_count": 40,
   "metadata": {},
   "outputs": [
    {
     "data": {
      "text/plain": [
       "{'nome': 'notebook', 'preco': 3000.0, 'fabricante': 'samsung'}"
      ]
     },
     "execution_count": 40,
     "metadata": {},
     "output_type": "execute_result"
    }
   ],
   "source": [
    "gerar_produto(nome='notebook', preco= 3000.00, fabricante= 'samsung' )"
   ]
  },
  {
   "cell_type": "code",
   "execution_count": 1,
   "metadata": {},
   "outputs": [],
   "source": [
    "# funções fatorial convencional\n",
    "\n",
    "def calcula_fatorial(numero):\n",
    "    resultado = 1\n",
    "    for i in range(1 , numero + 1):\n",
    "        resultado *= i\n",
    "    return resultado"
   ]
  },
  {
   "cell_type": "code",
   "execution_count": 42,
   "metadata": {},
   "outputs": [
    {
     "data": {
      "text/plain": [
       "120"
      ]
     },
     "execution_count": 42,
     "metadata": {},
     "output_type": "execute_result"
    }
   ],
   "source": [
    "calcula_fatorial(5)"
   ]
  },
  {
   "cell_type": "code",
   "execution_count": 3,
   "metadata": {},
   "outputs": [],
   "source": [
    "def calcula_fatorial2(numero):\n",
    "    if numero == 0 or numero == 1:\n",
    "        return 1\n",
    "    else:\n",
    "        return numero * calcula_fatorial2(numero-1)"
   ]
  },
  {
   "cell_type": "code",
   "execution_count": 4,
   "metadata": {},
   "outputs": [
    {
     "name": "stdout",
     "output_type": "stream",
     "text": [
      "120\n"
     ]
    }
   ],
   "source": [
    "print(calcula_fatorial2(5))"
   ]
  }
 ],
 "metadata": {
  "kernelspec": {
   "display_name": "Python 3",
   "language": "python",
   "name": "python3"
  },
  "language_info": {
   "codemirror_mode": {
    "name": "ipython",
    "version": 3
   },
   "file_extension": ".py",
   "mimetype": "text/x-python",
   "name": "python",
   "nbconvert_exporter": "python",
   "pygments_lexer": "ipython3",
   "version": "3.12.3"
  }
 },
 "nbformat": 4,
 "nbformat_minor": 2
}
