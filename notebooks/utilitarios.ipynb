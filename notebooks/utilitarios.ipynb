{
 "cells": [
  {
   "cell_type": "code",
   "execution_count": 2,
   "id": "c7d980dc-df78-4827-812c-6dbb9fd6e5bf",
   "metadata": {},
   "outputs": [
    {
     "data": {
      "text/plain": [
       "True"
      ]
     },
     "metadata": {},
     "output_type": "display_data"
    }
   ],
   "source": [
    "# ANY (Qualquer, qualquer coisa)\n",
    "\n",
    "resposta = any([False, True, False, False, False ])\n",
    "display(resposta)"
   ]
  },
  {
   "cell_type": "code",
   "execution_count": 4,
   "id": "166a838d-c54d-4af5-94fa-17ff17b28825",
   "metadata": {},
   "outputs": [
    {
     "data": {
      "text/plain": [
       "False"
      ]
     },
     "metadata": {},
     "output_type": "display_data"
    }
   ],
   "source": [
    "nomes = ['', '','','','','']\n",
    "\n",
    "resposta = any(nomes)\n",
    "display(resposta)"
   ]
  },
  {
   "cell_type": "code",
   "execution_count": 8,
   "id": "46b3f445-ca28-40a6-a015-2ef09972a0ff",
   "metadata": {},
   "outputs": [
    {
     "data": {
      "text/plain": [
       "False"
      ]
     },
     "metadata": {},
     "output_type": "display_data"
    }
   ],
   "source": [
    "numeros = [ 2, 10, 18, 24]\n",
    "\n",
    "resultado = any(num % 2 != 0 for num in numeros)\n",
    "\n",
    "display(resultado)\n"
   ]
  },
  {
   "cell_type": "code",
   "execution_count": 33,
   "id": "c16a4585-68bd-4ff3-af00-71852935cd1a",
   "metadata": {},
   "outputs": [
    {
     "name": "stdout",
     "output_type": "stream",
     "text": [
      "True\n"
     ]
    }
   ],
   "source": [
    "tabuleiro = ['a',1,2,3,'a',5,6,7,'a']\n",
    "\n",
    "venceu = False\n",
    "combinacoes_vitoria = [\n",
    "    (0,1,2), (3,4,5), (6,7,8), #linhas\n",
    "    (0,3,6), (1,4,7), (2,5,8), #colunas\n",
    "    (0,4,8), (2,4,6)           #diagonais\n",
    "]\n",
    "\n",
    "venceu = any(tabuleiro[a] == tabuleiro[b] == tabuleiro[c] for a, b, c in combinacoes_vitoria)\n",
    "# for a, b, c in combinacoes_vitoria:\n",
    "#    if tabuleiro[a] == tabuleiro[b] == tabuleiro[c]:\n",
    "#        venceu = True\n",
    "\n",
    "print(venceu)"
   ]
  },
  {
   "cell_type": "code",
   "execution_count": 37,
   "id": "595d3feb-f8db-4371-8aa1-77ec16cb9881",
   "metadata": {},
   "outputs": [
    {
     "name": "stdout",
     "output_type": "stream",
     "text": [
      "luciano lucas luan\n",
      "luciana luca luana\n",
      "Joana Jorge Jó\n"
     ]
    }
   ],
   "source": [
    "lista_nomes = [\n",
    "    ['luciano', 'lucas','luan'],\n",
    "    ['luciana', 'luca', 'luana'],\n",
    "    ['Joana', 'Jorge', 'Jó']    \n",
    "]\n",
    "\n",
    "for nome1, nome2, nome3 in lista_nomes:\n",
    "    print(nome1, nome2, nome3)\n"
   ]
  },
  {
   "cell_type": "code",
   "execution_count": 41,
   "id": "6ac213fa-a963-4b47-b9e6-c88a31012a31",
   "metadata": {},
   "outputs": [
    {
     "name": "stdout",
     "output_type": "stream",
     "text": [
      "True\n"
     ]
    }
   ],
   "source": [
    "\n",
    "lista = [True, True, True]\n",
    "\n",
    "resposta = all(lista)\n",
    "\n",
    "print(resposta)\n"
   ]
  },
  {
   "cell_type": "code",
   "execution_count": 44,
   "id": "9865634a-8018-4a06-8133-3dbf0fca3ffd",
   "metadata": {},
   "outputs": [
    {
     "name": "stdout",
     "output_type": "stream",
     "text": [
      "['Laranja', 'Morango', 'Uva']\n",
      "['Laranja', 'Morango', 'Uva']\n",
      "['Laranja', 'Kiwi', 'Uva']\n",
      "['Laranja', 'Morango', 'Uva']\n"
     ]
    }
   ],
   "source": [
    "lista_frutas = ['Laranja', 'Morango', 'Uva']\n",
    "\n",
    "copia_lista = lista_frutas[:]\n",
    "\n",
    "print(lista_frutas)\n",
    "print(copia_lista)\n",
    "\n",
    "lista_frutas[1] = 'Kiwi'\n",
    "\n",
    "print(lista_frutas)\n",
    "print(copia_lista)\n"
   ]
  },
  {
   "cell_type": "code",
   "execution_count": 56,
   "id": "3154958d-5df4-4030-8592-ba32ceeb4dab",
   "metadata": {},
   "outputs": [
    {
     "name": "stdin",
     "output_type": "stream",
     "text": [
      "Informe o numero:  a\n"
     ]
    },
    {
     "name": "stdout",
     "output_type": "stream",
     "text": [
      "<class 'ValueError'>\n",
      "Estou depois do try\n"
     ]
    }
   ],
   "source": [
    "try:\n",
    "    numero1 = int(input('Informe o numero: '))\n",
    "    numero2 = int(input('Informe o numero: '))\n",
    "    \n",
    "    print('O resultado é:', numero1 / numero2)\n",
    "except ZeroDivisionError:\n",
    "    print(ZeroDivisionError)\n",
    "except ValueError:\n",
    "    print(ValueError)\n",
    "\n",
    "\n",
    "print('Estou depois do try')"
   ]
  },
  {
   "cell_type": "code",
   "execution_count": null,
   "id": "6127ded8-0eaa-48f2-8a23-d3e3eb507fca",
   "metadata": {},
   "outputs": [],
   "source": []
  }
 ],
 "metadata": {
  "kernelspec": {
   "display_name": "Python 3 (ipykernel)",
   "language": "python",
   "name": "python3"
  },
  "language_info": {
   "codemirror_mode": {
    "name": "ipython",
    "version": 3
   },
   "file_extension": ".py",
   "mimetype": "text/x-python",
   "name": "python",
   "nbconvert_exporter": "python",
   "pygments_lexer": "ipython3",
   "version": "3.11.9"
  }
 },
 "nbformat": 4,
 "nbformat_minor": 5
}
